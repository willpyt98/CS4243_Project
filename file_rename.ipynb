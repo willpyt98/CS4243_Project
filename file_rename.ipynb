{
 "cells": [
  {
   "cell_type": "code",
   "execution_count": 1,
   "metadata": {},
   "outputs": [],
   "source": [
    "import pylab as plt\n",
    "import imageio\n",
    "import os\n",
    "import numpy as np\n",
    "import pandas as pd\n",
    "import time"
   ]
  },
  {
   "cell_type": "code",
   "execution_count": 2,
   "metadata": {},
   "outputs": [],
   "source": [
    "path = \"..\\\\data\\\\clean_images\""
   ]
  },
  {
   "cell_type": "code",
   "execution_count": 20,
   "metadata": {},
   "outputs": [],
   "source": [
    "# i = 0\n",
    "# label_list = []\n",
    "for f in os.listdir(path):\n",
    "    # label = int(''.join([s for s in f if s.isdigit()]))\n",
    "    img_folder = os.path.join(path, f)\n",
    "    i = 0\n",
    "    for img in os.listdir(img_folder):\n",
    "        if img.endswith(\".jpg\"):\n",
    "            old_path = os.path.join(img_folder, img)\n",
    "            index = str(i).zfill(3)\n",
    "            new_name = index + '.jpg'\n",
    "            new_path = os.path.join(img_folder, new_name)\n",
    "            os.rename(old_path, new_path)\n",
    "            i += 1"
   ]
  },
  {
   "cell_type": "code",
   "execution_count": null,
   "metadata": {},
   "outputs": [],
   "source": []
  }
 ],
 "metadata": {
  "kernelspec": {
   "display_name": "Python 3",
   "language": "python",
   "name": "python3"
  },
  "language_info": {
   "codemirror_mode": {
    "name": "ipython",
    "version": 3
   },
   "file_extension": ".py",
   "mimetype": "text/x-python",
   "name": "python",
   "nbconvert_exporter": "python",
   "pygments_lexer": "ipython3",
   "version": "3.8.3"
  }
 },
 "nbformat": 4,
 "nbformat_minor": 4
}
